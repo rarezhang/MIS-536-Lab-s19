{
 "cells": [
  {
   "cell_type": "markdown",
   "metadata": {},
   "source": [
    "# Introduction to Python "
   ]
  },
  {
   "cell_type": "markdown",
   "metadata": {},
   "source": [
    "### LEARN PYTHON: SYNTAX\n",
    "## Welcome\n",
    "Python is a programming language. Like other languages, it gives us a way to communicate ideas. In the case of a programming language, these ideas are \"commands\" that people use to communicate with a computer!\n",
    "We convey our commands to the computer by writing them in a text file using a programming language. These files are called programs. Running a program means telling a computer to read the text file, translate it to the set of operations that it understands, and perform those actions.\n",
    "\n",
    "Change ```iowa state``` to your name in the script. Run the code to see what it does! As soon as you're ready, move on to the next exercise to begin learning to write your own Python programs!\n"
   ]
  },
  {
   "cell_type": "code",
   "execution_count": null,
   "metadata": {},
   "outputs": [],
   "source": [
    "my_name = \"iowa state\"\n",
    "print(\"Hello and welcome \" + my_name + \"!\")\n"
   ]
  },
  {
   "cell_type": "markdown",
   "metadata": {},
   "source": [
    "## Comments\n",
    "Ironically, the first thing we're going to do is show how to tell a computer to ignore a part of a program. Text written in a program but not run by the computer is called a comment. Python interprets anything after a # as a comment.\n",
    "Comments can:  \n",
    "•\tProvide context for why something is written the way it is:  \n",
    "```\n",
    "# This variable will be used to count the number of times anyone tweets the word persnickety \n",
    "persnickety_count = 0\n",
    "```  \n",
    "•\tHelp other people reading the code understand it faster:  \n",
    "```  \n",
    "# This code will calculate the likelihood that it will rain tomorrow \n",
    "complicated_rain_calculation_for_tomorrow()\n",
    "```  \n",
    "•\tIgnore a line of code and see how a program will run without it:  \n",
    "```  \n",
    "# useful_value = old_sloppy_code()  \n",
    "useful_value = new_clean_code()\n",
    "```"
   ]
  },
  {
   "cell_type": "code",
   "execution_count": null,
   "metadata": {},
   "outputs": [],
   "source": [
    "# Documentation is an important step in programming. Write a comment describing the first program you want to write!\n",
    "# your code:\n",
    "\n",
    "\n",
    "# end"
   ]
  },
  {
   "cell_type": "markdown",
   "metadata": {},
   "source": [
    "## Print\n",
    "Now what we're going to do is teach our computer to communicate. The gift of speech is valuable: a computer can answer many questions we have about \"how\" or \"why\" or \"what\" it is doing. In Python, the print() function is used to tell a computer to talk. The message to be printed should be surrounded by quotes:  \n",
    "```\n",
    "# from Mary Shelley's Frankenstein   \n",
    "print(\"There is something at work in my soul, which I do not understand.\")\n",
    "```\n",
    "In the above example, we direct our program to print() an excerpt from a notable book. The printed words that appear as a result of the print() function are referred to as output. The output of this example program would be:  \n",
    "```\n",
    "There is something at work in my soul, which I do not understand.  \n",
    "```"
   ]
  },
  {
   "cell_type": "code",
   "execution_count": null,
   "metadata": {},
   "outputs": [],
   "source": [
    "# Print the distinguished greeting \"Hello world!\"\n",
    "# your code:\n",
    "\n",
    "\n",
    "# end"
   ]
  },
  {
   "cell_type": "markdown",
   "metadata": {},
   "source": [
    "## Strings  \n",
    "Computer programmers refer to blocks of text as strings. In our last exercise, we created the string \"Hello world!\". In Python a string is either surrounded by double quotes ```(\"Hello world\")``` or single quotes ```('Hello world')```. It doesn't matter which kind you use, just be consistent.\n"
   ]
  },
  {
   "cell_type": "code",
   "execution_count": null,
   "metadata": {},
   "outputs": [],
   "source": [
    "# 1. Print your name using the print()command.\n",
    "# your code:\n",
    "\n",
    "\n",
    "# end\n",
    "\n",
    "# -----------------------------------------------------\n",
    "# 2. If your print statement uses double-quotes \", change them to single-quotes '. If it uses single-quotes ', \n",
    "# change them to double-quotes \". Try running your code again after switching the type of quote-marks. \n",
    "# Is anything different about the output?\n"
   ]
  },
  {
   "cell_type": "markdown",
   "metadata": {},
   "source": [
    "## Variables\n",
    "Programming languages offer a method of storing data for reuse. If there is a greeting we want to present, a date we need to reuse, or a user ID we need to remember we can create a variable which can store a value. In Python, we assign variables by using the equals sign (```=```).  \n",
    "```  \n",
    "message_string = \"Hello there\" # Prints \"Hello there\"   \n",
    "print(message_string)\n",
    "```  \n",
    "In the above example, we store the message \"Hello there\" in a variable called ```message_string```. Variables can't have spaces or symbols in their names other than an underscore (```_```). They can't begin with numbers but they can have numbers after the first letter (e.g., ```cool_variable_5``` is OK).  \n",
    "It's no coincidence we call these creatures \"variables\". If the context of a program changes, we can update a variable but perform the same logical process on it.\n",
    "```\n",
    "# Greeting \n",
    "message_string = \"Hello there\" \n",
    "print(message_string) \n",
    "# Farewell \n",
    "message_string = \"Hasta la vista\" \n",
    "print(message_string)\n",
    "```  \n",
    "Above, we create the variable ```message_string```, assign a welcome message, and print the greeting. After we greet the user, we want to wish them goodbye. We then update ```message_string``` to a departure message and print that out."
   ]
  },
  {
   "cell_type": "code",
   "execution_count": null,
   "metadata": {},
   "outputs": [],
   "source": [
    "# Update the variable meal to reflect each meal of the day before we print it.\n",
    "\n",
    "# We've defined the variable \"meal\" here to the name of the food we ate for breakfast!\n",
    "meal = \"An english muffin\"\n",
    "\n",
    "# Printing out breakfast\n",
    "print(\"Breakfast:\")\n",
    "print(meal)\n",
    "\n",
    "# Now update meal to be lunch!\n",
    "meal = \n",
    "\n",
    "# Printing out lunch\n",
    "print(\"Lunch:\")\n",
    "print(meal)\n",
    "\n",
    "# Now update \"meal\" to be dinner\n",
    "meal = \n",
    "\n",
    "# Printing out dinner\n",
    "print(\"Dinner:\")\n",
    "print(meal)\n"
   ]
  },
  {
   "cell_type": "markdown",
   "metadata": {},
   "source": [
    "## Errors\n",
    "Humans are prone to making mistakes. Humans are also typically in charge of creating computer programs. To compensate, programming languages attempt to understand and explain mistakes made in their programs.  \n",
    "Python refers to these mistakes as errorsand will point to the location where an error occurred with a ```^``` character. When programs throw errors that we didn't expect to encounter we call those errors bugs. Programmers call the process of updating the program so that it no longer produces unexpected errors debugging.    \n",
    "Two common errors that we encounter while writing Python are ```SyntaxError``` and ```NameError```.  \n",
    "•\t```SyntaxError``` means there is something wrong with the way your program is written — punctuation that does not belong, a command where it is not expected, or a missing parenthesis can all trigger a ```SyntaxError```.\n",
    "•\tA ```NameError``` occurs when the Python interpreter sees a word it does not recognize. Code that contains something that looks like a variable but was never defined will throw a ```NameError```.\n"
   ]
  },
  {
   "cell_type": "code",
   "execution_count": null,
   "metadata": {},
   "outputs": [],
   "source": [
    "# You might encounter a SyntaxError if you open a string with double quotes and end it with a single quote. \n",
    "# Update the string so that it starts and ends with the same punctuation.\n",
    "\n",
    "print(‘This message has mismatched quote marks!\")\n",
    "      \n",
    "# You might encounter a NameError if you try to print a single word string but fail to put any quotes around it. Python expects the word of your string to be defined elsewhere but can't find where it's defined. Add quotes to either side of the string to squash this bug.\n",
    "# Update the malformed strings in the workspace to all be strings.      \n",
    "print(Abracadabra)\n"
   ]
  },
  {
   "cell_type": "markdown",
   "metadata": {},
   "source": [
    "## Numbers\n",
    "Computers can understand much more than just strings of text. Python has a few numeric data types. It has multiple ways of storing numbers. Which one you use depends on your intended purpose for the number you are saving.  \n",
    "An **integer**, or ```int```, is a whole number. It has no decimal point and contains all counting numbers (1, 2, 3, ...) as well as their negative counterparts and the number 0. If you were counting the number of people in a room, the number of jellybeans in a jar, or the number of keys on a keyboard you would likely use an integer.  \n",
    "A **floating-point number**, or a ```float```, is a decimal number. It can be used to represent fractional quantities as well as precise measurements. If you were measuring the length of your bedroom wall, calculating the average test score of a seventh-grade class, or storing a baseball player's batting average for the 1998 season you would likely use a ```float```.\n",
    "Numbers can be assigned to variables or used literally in a program:  \n",
    "```\n",
    "an_int = 2 \n",
    "a_float = 2.1 \n",
    "print(an_int + 3) # prints 5\n",
    "```\n",
    "Above we defined an integer and a float as the variables ```an_int``` and ```a_float```. We printed out the sum of the variable ```an_int``` with the number 3. We call the number 3 here a literal, meaning it's actually the number 3 and not a variable with the number 3 assigned to it.\n"
   ]
  },
  {
   "cell_type": "code",
   "execution_count": null,
   "metadata": {},
   "outputs": [],
   "source": [
    "# A recent movie-going experience has you excited to publish a review. \n",
    "# You rush out of the cinema and hastily begin programming to create your movie-review website: The Big Screen's Greatest Scenes Decided By A Machine.\n",
    "# Create the following variables and assign integer numbers to them: release_year and runtime.\n",
    "\n",
    "\n",
    "# Define the release and runtime integer variables below:\n",
    "# your code:\n",
    "\n",
    "\n",
    "# end\n",
    "\n",
    "\n",
    "# Define the rating_out_of_10 float variable below:\n",
    "# your code:\n",
    "\n",
    "\n",
    "# end\n"
   ]
  },
  {
   "cell_type": "markdown",
   "metadata": {},
   "source": [
    "## Calculations  \n",
    "Computers absolutely excel at performing calculations. The \"compute\" in their name comes from their historical association with providing answers to mathematical questions. Python performs addition, subtraction, multiplication, and division with `+`, `-`, `*`, and `/`.\n",
    "```\n",
    "# Prints \"500\" \n",
    "print(573 - 74 + 1) \n",
    "# Prints \"50\" \n",
    "print(25 * 2) \n",
    "# Prints \"2.0\" \n",
    "print(10 / 5)\n",
    "```\n",
    "Notice that when we perform division, the result has a decimal place. This is because Python converts all `ints` to `floats` before performing division. In older versions of Python (2.7 and earlier) this conversion did not happen, and integer division would always round down to the nearest integer.\n",
    "Division can throw its own special error: `ZeroDivisionError`. Python will raise this error when attempting to divide by 0.\n",
    "Mathematical operations in Python follow the standard mathematical [order of operations](https://en.wikipedia.org/wiki/Order_of_operations).\n"
   ]
  },
  {
   "cell_type": "code",
   "execution_count": null,
   "metadata": {},
   "outputs": [],
   "source": [
    "# Print out the result of this equation: 25 * 68 + 13 / 28\n",
    "# your code:\n",
    "\n",
    "\n",
    "# end"
   ]
  },
  {
   "cell_type": "markdown",
   "metadata": {},
   "source": [
    "## Changing Numbers\n",
    "Variables that are assigned numeric values can be treated the same as the numbers themselves. Two variables can be added together, divided by `2`, and multiplied by a third variable without Python distinguishing between the variables and **literals** (like the number `2` in this example). Performing arithmetic on variables does not change the variable — you can only update a variable using the `=` sign.\n",
    "```\n",
    "coffee_price = 1.50 \n",
    "number_of_coffees = 4 \n",
    "# Prints \"6.0\" \n",
    "print(coffee_price * number_of_coffees) \n",
    "# Prints \"1.5\" \n",
    "print(coffee_price) \n",
    "# Prints \"4\" \n",
    "print(number_of_coffees) \n",
    "# Updating the price \n",
    "coffee_price = 2.00 \n",
    "# Prints \"8.0\" \n",
    "print(coffee_price * number_of_coffees) \n",
    "# Prints \"2.0\" \n",
    "print(coffee_price) \n",
    "# Prints \"4\" \n",
    "print(number_of_coffees)\n",
    "```\n",
    "We create two variables and assign numeric values to them. Then we perform a calculation on them. This doesn't update the variables! When we update the ```coffee_price``` variable and perform the calculations again, they use the updated values for the variable!"
   ]
  },
  {
   "cell_type": "code",
   "execution_count": null,
   "metadata": {},
   "outputs": [],
   "source": [
    "# You've decided to get into quilting! \n",
    "# To calculate the number of squares you'll need for your first quilt let's create two variables: quilt_widthand quilt_length. \n",
    "# Let's make this first quilt 8 squares wide and 12 squares long. \n",
    "# Print out the number of squares you'll need to create the quilt!\n",
    "# your code:\n",
    "\n",
    "\n",
    "# end\n",
    "\n",
    "\n",
    "# It turns out that quilt required a little more material than you have on hand! \n",
    "# Let's only make the quilt 8 squares long. How many squares will you need for this quilt instead?\n",
    "# your code:\n",
    "\n",
    "\n",
    "# end"
   ]
  },
  {
   "cell_type": "markdown",
   "metadata": {},
   "source": [
    "## Concatenation"
   ]
  }
 ],
 "metadata": {
  "kernelspec": {
   "display_name": "Python 3",
   "language": "python",
   "name": "python3"
  },
  "language_info": {
   "codemirror_mode": {
    "name": "ipython",
    "version": 3
   },
   "file_extension": ".py",
   "mimetype": "text/x-python",
   "name": "python",
   "nbconvert_exporter": "python",
   "pygments_lexer": "ipython3",
   "version": "3.7.1"
  }
 },
 "nbformat": 4,
 "nbformat_minor": 2
}
